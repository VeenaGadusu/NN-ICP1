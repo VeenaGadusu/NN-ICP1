{
  "nbformat": 4,
  "nbformat_minor": 0,
  "metadata": {
    "colab": {
      "provenance": []
    },
    "kernelspec": {
      "name": "python3",
      "display_name": "Python 3"
    },
    "language_info": {
      "name": "python"
    }
  },
  "cells": [
    {
      "cell_type": "code",
      "execution_count": 6,
      "metadata": {
        "colab": {
          "base_uri": "https://localhost:8080/"
        },
        "id": "s3376IjJMoe7",
        "outputId": "4de88382-71ed-4d66-c16a-87249a06c5c3"
      },
      "outputs": [
        {
          "output_type": "stream",
          "name": "stdout",
          "text": [
            "Enter the string: Python\n",
            "Sample output:\n",
            "noht\n"
          ]
        }
      ],
      "source": [
        "#PROGRAM 1\n",
        "# Input the string \"Python\"\n",
        "ip = list(input(\"Enter the string: \"))\n",
        "\n",
        "# Deleting at least 2 characters\n",
        "if len(ip) >= 2:\n",
        "    del ip[:2]\n",
        "\n",
        "# Reverse the obtained string\n",
        "resultant_string = ip[::-1]\n",
        "\n",
        "# Print the final reversed string\n",
        "print(\"Sample output:\")\n",
        "print(\"\".join(resultant_string))"
      ]
    },
    {
      "cell_type": "code",
      "source": [
        "#PROGRAM 2\n",
        "# Taking two numbers from the user\n",
        "n1 = int(input(\"First number: \"))\n",
        "n2 = int(input(\"Second number: \"))\n",
        "\n",
        "# Performing arithmetic operations\n",
        "add_result = n1 + n2\n",
        "sub_result = n1 - n2\n",
        "multi_result = n1 * n2\n",
        "div_result = n1 / n2\n",
        "\n",
        "# Print the results of arithmetic operations\n",
        "print(\"Arithmetic Operations:\")\n",
        "print(f\"Addition: {add_result}\")\n",
        "print(f\"Subtraction: {sub_result}\")\n",
        "print(f\"Multiplication: {multi_result}\")\n",
        "print(f\"Division: {div_result}\")"
      ],
      "metadata": {
        "colab": {
          "base_uri": "https://localhost:8080/"
        },
        "id": "T3yMkXYAMtuk",
        "outputId": "c6551395-964d-41a1-948b-0be6313f0406"
      },
      "execution_count": 7,
      "outputs": [
        {
          "output_type": "stream",
          "name": "stdout",
          "text": [
            "First number: 2\n",
            "Second number: 3\n",
            "Arithmetic Operations:\n",
            "Addition: 5\n",
            "Subtraction: -1\n",
            "Multiplication: 6\n",
            "Division: 0.6666666666666666\n"
          ]
        }
      ]
    },
    {
      "cell_type": "code",
      "source": [
        "#PROGRAM 3\n",
        "# Taking a sentence from the user\n",
        "inp_sentence = input(\"Enter a sentence: \")\n",
        "\n",
        "# Replacing each occurrence of 'python' with 'pythons'\n",
        "op_sentence = inp_sentence.replace('python', 'pythons')\n",
        "\n",
        "# Print the modified sentence\n",
        "print(\"Sample output:\")\n",
        "print(op_sentence)"
      ],
      "metadata": {
        "colab": {
          "base_uri": "https://localhost:8080/"
        },
        "id": "jteA1qbHMw6d",
        "outputId": "0274ec3b-80cd-46ee-a152-1bc630fbae3d"
      },
      "execution_count": 9,
      "outputs": [
        {
          "output_type": "stream",
          "name": "stdout",
          "text": [
            "Enter a sentence: I love python\n",
            "Sample output:\n",
            "I love pythons\n"
          ]
        }
      ]
    },
    {
      "cell_type": "code",
      "source": [
        "#PROGRAM 4\n",
        "# Take the class score from the user\n",
        "cls_score = float(input(\"Enter class score: \"))\n",
        "\n",
        "# Determining the letter grade based on the grading scheme\n",
        "if 90 <= cls_score <= 100:\n",
        "    grade = 'A'\n",
        "elif 80 <= cls_score < 90:\n",
        "    grade = 'B'\n",
        "elif 70 <= cls_score < 80:\n",
        "    grade = 'C'\n",
        "elif 60 <= cls_score < 70:\n",
        "    grade = 'D'\n",
        "else:\n",
        "    grade = 'F'\n",
        "\n",
        "# Print the letter grade\n",
        "print(f\"The grade {cls_score} is: {grade}\")"
      ],
      "metadata": {
        "colab": {
          "base_uri": "https://localhost:8080/"
        },
        "id": "3OthyDyQMz9q",
        "outputId": "6eb81ac5-0b95-4df8-fd98-ea14b3799e75"
      },
      "execution_count": 10,
      "outputs": [
        {
          "output_type": "stream",
          "name": "stdout",
          "text": [
            "Enter class score: 30\n",
            "The grade 30.0 is: F\n"
          ]
        }
      ]
    }
  ]
}